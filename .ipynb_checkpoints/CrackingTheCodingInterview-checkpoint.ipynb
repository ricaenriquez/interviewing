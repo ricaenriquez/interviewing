{
 "cells": [
  {
   "cell_type": "markdown",
   "metadata": {},
   "source": [
    "# Data Analyst Nanodegree Meetings\n",
    "\n",
    "A main goal of our meetings is to practice explaining technical topics and problem solutions. We do a lot of the work on a plain text editor or pen and paper. We do transfer codes to an iPython notebook to test our scripts and keep a record.\n",
    "\n",
    "## General Format\n",
    "* Some weeks we present topics to each other, about 5 - 10 minutes\n",
    "* Then we work on odd problems from Cracking the Coding Interview during our meetings\n",
    "    1. We work on a problem individually for a few minutes\n",
    "    2. We then present our code to each other while others critique\n",
    "    3. We check the book's answer\n",
    "    4. Repeat 1 - 3 until it's time to go!\n",
    "\n",
    "## Main Resources\n",
    "1. Cracking the Coding Interview - 5th Edition\n",
    "    * Python Answers\n",
    "        * https://github.com/gaylemcd/ctci/tree/master/python\n",
    "2. Problem Solving with Algorithms and Data Structures Using Python\n",
    "    * http://interactivepython.org/runestone/static/pythonds/index.html"
   ]
  },
  {
   "cell_type": "markdown",
   "metadata": {},
   "source": [
    "## Data Structures\n",
    "### 1. Arrays and Strings \n",
    "\n",
    "1.1 Implement an algorithm to determine if a string has all unique characters. What if you cannot use additional data structures?"
   ]
  },
  {
   "cell_type": "code",
   "execution_count": 9,
   "metadata": {
    "collapsed": false
   },
   "outputs": [
    {
     "name": "stdout",
     "output_type": "stream",
     "text": [
      "Not all unique\n"
     ]
    }
   ],
   "source": [
    "#Rica's try without additonal data structures\n",
    "def checkUniqueness(s):\n",
    "    for i in range(0, len(s)):\n",
    "        for j in range(0, len(s)):\n",
    "            if i != j:\n",
    "                if  s[i] == s[j]:\n",
    "                    return \"Not all unique\"\n",
    "    return \"All unique\"\n",
    "\n",
    "\n",
    "string = \"alpaca\"\n",
    "print checkUniqueness(string)"
   ]
  },
  {
   "cell_type": "code",
   "execution_count": 2,
   "metadata": {
    "collapsed": false
   },
   "outputs": [
    {
     "data": {
      "text/plain": [
       "False"
      ]
     },
     "execution_count": 2,
     "metadata": {},
     "output_type": "execute_result"
    }
   ],
   "source": [
    "#Yann's try\n",
    "def string_unique_char(s):\n",
    "    for c in s:\n",
    "        if s.count(c)>1:\n",
    "            return False     \n",
    "    return True\n",
    "\n",
    "s='ewfrf'\n",
    "string_unique_char(s)"
   ]
  },
  {
   "cell_type": "markdown",
   "metadata": {
    "collapsed": true
   },
   "source": [
    "1.3 Given two strings, write a method to decide if one is a permutation of the other."
   ]
  },
  {
   "cell_type": "code",
   "execution_count": 11,
   "metadata": {
    "collapsed": false
   },
   "outputs": [
    {
     "name": "stdout",
     "output_type": "stream",
     "text": [
      "not same size\n",
      "False\n",
      "premutation\n",
      "True\n",
      "same word\n",
      "False\n"
     ]
    }
   ],
   "source": [
    "#Rica's try\n",
    "def ifPerm(a, b):\n",
    "    if a == b:\n",
    "        print \"same word\"\n",
    "        return False\n",
    "    if len(a) != len(b):\n",
    "        print \"not same size\"\n",
    "        return False\n",
    "    else:            \n",
    "        for letter in b:\n",
    "            index = a.find(letter)\n",
    "            if index == -1:\n",
    "                print letter\n",
    "                print \"letter not found\"\n",
    "                return False\n",
    "            else:\n",
    "                c = a.replace(letter, \"\", 1)\n",
    "                a = c\n",
    "        print \"permutation\"\n",
    "        return True\n",
    "\n",
    "str1 = \"giraffe\"\n",
    "str2 = \"elephant\"\n",
    "str3 = \"tlephane\"\n",
    "\n",
    "\n",
    "print ifPerm(str1, str2)\n",
    "print ifPerm(str2, str3)\n",
    "print ifPerm(str1, str1)"
   ]
  },
  {
   "cell_type": "code",
   "execution_count": 1,
   "metadata": {
    "collapsed": false
   },
   "outputs": [
    {
     "name": "stdout",
     "output_type": "stream",
     "text": [
      "False\n",
      "True\n",
      "False\n",
      "a3b3c3\n",
      "a1b1c1\n",
      "a1g2/21424?2a3g3\n"
     ]
    }
   ],
   "source": [
    "#Nash's try, question 3\n",
    "\n",
    "def permutation(s1, s2):\n",
    "    if len(s1) != len(s2) or s1==s2:\n",
    "        return False\n",
    "    else:\n",
    "        answerDict = {}\n",
    "        for i in s1:\n",
    "            answerDict[i] = s2.count(i) == s1.count(i)\n",
    "        return all(answerDict.values())\n",
    "\n",
    "print permutation('abc','abd') #FALSE\n",
    "print permutation('abc','cba') #TRUE\n",
    "print permutation('abc','abcd') #FALSE\n",
    "\n",
    "#Nash's try, question 5\n",
    "\n",
    "def strCompress(s):\n",
    "    output = \"\"\n",
    "    for i in range(len(s)):\n",
    "        if s[i]==s[i-1]:\n",
    "            pass\n",
    "        else:\n",
    "            countConsecutive = 1\n",
    "            j = i+1\n",
    "            while j <= (len(s)-1) and s[j]==s[i]:\n",
    "                countConsecutive += 1\n",
    "                j += 1\n",
    "            output += s[i] + str(countConsecutive)\n",
    "    return output\n",
    "\n",
    "print strCompress('aaabbbccc') #a3b3c3\n",
    "print strCompress('abc') #a1b1c1\n",
    "print strCompress('agg//11112222??aaaggg') #a1g2/21424?2a3g3"
   ]
  }
 ],
 "metadata": {
  "kernelspec": {
   "display_name": "Python 2",
   "language": "python",
   "name": "python2"
  },
  "language_info": {
   "codemirror_mode": {
    "name": "ipython",
    "version": 2
   },
   "file_extension": ".py",
   "mimetype": "text/x-python",
   "name": "python",
   "nbconvert_exporter": "python",
   "pygments_lexer": "ipython2",
   "version": "2.7.10"
  }
 },
 "nbformat": 4,
 "nbformat_minor": 0
}
