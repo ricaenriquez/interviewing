{
 "cells": [
  {
   "cell_type": "markdown",
   "metadata": {},
   "source": [
    "# Data Analyst Nanodegree Meetings\n",
    "\n",
    "A main goal of our meetings is to practice explaining technical topics and problem solutions. We do a lot of the work on a plain text editor or pen and paper. We do transfer codes to an iPython notebook to test our scripts and keep a record.\n",
    "\n",
    "## General Format\n",
    "Some weeks we present topics to each other, about 5 - 10 minutes\n",
    "Then we work on odd problems from Cracking the Coding Interview during our meetings\n",
    "\n",
    "## Main Resources\n",
    "1. Cracking the Coding Interview - 5th Edition\n",
    "    * Python Answers\n",
    "        * https://github.com/gaylemcd/ctci/tree/master/python\n",
    "2. Problem Solving with Algorithms and Data Structures Using Python\n",
    "    * http://interactivepython.org/runestone/static/pythonds/index.html"
   ]
  },
  {
   "cell_type": "markdown",
   "metadata": {},
   "source": [
    "## Data Structures\n",
    "### 1. Arrays and Strings \n",
    "\n",
    "1.1 Implement an algorithm to determine if a string has all unique characters. What if you cannot use additional data structures?"
   ]
  },
  {
   "cell_type": "code",
   "execution_count": 9,
   "metadata": {
    "collapsed": false
   },
   "outputs": [
    {
     "name": "stdout",
     "output_type": "stream",
     "text": [
      "Not all unique\n"
     ]
    }
   ],
   "source": [
    "#Rica's try without additonal data structures\n",
    "def checkUniqueness(s):\n",
    "    for i in range(0, len(s)):\n",
    "        for j in range(0, len(s)):\n",
    "            if i != j:\n",
    "                if  s[i] == s[j]:\n",
    "                    return \"Not all unique\"\n",
    "    return \"All unique\"\n",
    "\n",
    "\n",
    "string = \"alpaca\"\n",
    "print checkUniqueness(string)"
   ]
  }
 ],
 "metadata": {
  "kernelspec": {
   "display_name": "Python 2",
   "language": "python",
   "name": "python2"
  },
  "language_info": {
   "codemirror_mode": {
    "name": "ipython",
    "version": 2
   },
   "file_extension": ".py",
   "mimetype": "text/x-python",
   "name": "python",
   "nbconvert_exporter": "python",
   "pygments_lexer": "ipython2",
   "version": "2.7.10"
  }
 },
 "nbformat": 4,
 "nbformat_minor": 0
}
