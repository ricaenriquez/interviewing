{
 "cells": [
  {
   "cell_type": "markdown",
   "metadata": {},
   "source": [
    "# Data Analyst Nanodegree Meetings\n",
    "\n",
    "A main goal of our meetings is to practice explaining technical topics and problem solutions. We do a lot of the work on a plain text editor or pen and paper. We do transfer codes to an iPython notebook to test our scripts and keep a record.\n",
    "\n",
    "## General Format\n",
    "* Some weeks we present topics to each other, about 5 - 10 minutes\n",
    "* Then we work on odd problems from Cracking the Coding Interview during our meetings\n",
    "    1. We work on a problem individually for a few minutes\n",
    "    2. We then present our code to each other while others critique\n",
    "    3. We check the book's answer\n",
    "    4. Repeat 1 - 3 until it's time to go!\n",
    "\n",
    "## Main Resources\n",
    "1. Cracking the Coding Interview - 5th Edition\n",
    "    * Python Answers\n",
    "        * https://github.com/gaylemcd/ctci/tree/master/python\n",
    "2. Problem Solving with Algorithms and Data Structures Using Python\n",
    "    * http://interactivepython.org/runestone/static/pythonds/index.html"
   ]
  },
  {
   "cell_type": "markdown",
   "metadata": {},
   "source": [
    "## Data Structures\n",
    "### 1. Arrays and Strings \n",
    "\n",
    "1.1 Implement an algorithm to determine if a string has all unique characters. What if you cannot use additional data structures?"
   ]
  },
  {
   "cell_type": "code",
   "execution_count": 1,
   "metadata": {
    "collapsed": false
   },
   "outputs": [
    {
     "name": "stdout",
     "output_type": "stream",
     "text": [
      "Not all unique\n"
     ]
    }
   ],
   "source": [
    "#Rica's try without additonal data structures\n",
    "def checkUniqueness(s):\n",
    "    for i in range(0, len(s)):\n",
    "        for j in range(0, len(s)):\n",
    "            if i != j:\n",
    "                if  s[i] == s[j]:\n",
    "                    return \"Not all unique\"\n",
    "    return \"All unique\"\n",
    "\n",
    "\n",
    "string = \"alpaca\"\n",
    "print checkUniqueness(string)"
   ]
  },
  {
   "cell_type": "code",
   "execution_count": 2,
   "metadata": {
    "collapsed": false
   },
   "outputs": [
    {
     "data": {
      "text/plain": [
       "False"
      ]
     },
     "execution_count": 2,
     "metadata": {},
     "output_type": "execute_result"
    }
   ],
   "source": [
    "#Yann's try\n",
    "def string_unique_char(s):\n",
    "    for c in s:\n",
    "        if s.count(c)>1:\n",
    "            return False     \n",
    "    return True\n",
    "\n",
    "s='ewfrf'\n",
    "string_unique_char(s)"
   ]
  },
  {
   "cell_type": "markdown",
   "metadata": {
    "collapsed": true
   },
   "source": [
    "1.3 Given two strings, write a method to decide if one is a permutation of the other."
   ]
  },
  {
   "cell_type": "code",
   "execution_count": 3,
   "metadata": {
    "collapsed": false
   },
   "outputs": [
    {
     "name": "stdout",
     "output_type": "stream",
     "text": [
      "not same size\n",
      "False\n",
      "permutation\n",
      "True\n",
      "same word\n",
      "False\n"
     ]
    }
   ],
   "source": [
    "#Rica's try\n",
    "def ifPerm(a, b):\n",
    "    if a == b:\n",
    "        print \"same word\"\n",
    "        return False\n",
    "    if len(a) != len(b):\n",
    "        print \"not same size\"\n",
    "        return False\n",
    "    else:            \n",
    "        for letter in b:\n",
    "            index = a.find(letter)\n",
    "            if index == -1:\n",
    "                print letter\n",
    "                print \"letter not found\"\n",
    "                return False\n",
    "            else:\n",
    "                c = a.replace(letter, \"\", 1)\n",
    "                a = c\n",
    "        print \"permutation\"\n",
    "        return True\n",
    "\n",
    "str1 = \"giraffe\"\n",
    "str2 = \"elephant\"\n",
    "str3 = \"tlephane\"\n",
    "\n",
    "\n",
    "print ifPerm(str1, str2)\n",
    "print ifPerm(str2, str3)\n",
    "print ifPerm(str1, str1)"
   ]
  },
  {
   "cell_type": "code",
   "execution_count": 4,
   "metadata": {
    "collapsed": false
   },
   "outputs": [
    {
     "data": {
      "text/plain": [
       "True"
      ]
     },
     "execution_count": 4,
     "metadata": {},
     "output_type": "execute_result"
    }
   ],
   "source": [
    "#Yann's try\n",
    "def perm(s1,s2):\n",
    "    L1=list(s1)\n",
    "    L1.sort()\n",
    "    L2=list(s2)\n",
    "    L2.sort()\n",
    "\n",
    "    if len(L1)!=len(L2):\n",
    "        return False\n",
    "    else:\n",
    "        if L1!=L2:\n",
    "            return False\n",
    "    return True\n",
    "\n",
    "s1='ewfd'\n",
    "s2='wedf'\n",
    "perm(s1,s2)"
   ]
  },
  {
   "cell_type": "code",
   "execution_count": 5,
   "metadata": {
    "collapsed": false
   },
   "outputs": [
    {
     "name": "stdout",
     "output_type": "stream",
     "text": [
      "False\n",
      "True\n",
      "False\n",
      "a3b3c3\n",
      "a1b1c1\n",
      "a1g2/21424?2a3g3\n"
     ]
    }
   ],
   "source": [
    "#Nash's try, question 3\n",
    "\n",
    "def permutation(s1, s2):\n",
    "    if len(s1) != len(s2) or s1==s2:\n",
    "        return False\n",
    "    else:\n",
    "        answerDict = {}\n",
    "        for i in s1:\n",
    "            answerDict[i] = s2.count(i) == s1.count(i)\n",
    "        return all(answerDict.values())\n",
    "\n",
    "print permutation('abc','abd') #FALSE\n",
    "print permutation('abc','cba') #TRUE\n",
    "print permutation('abc','abcd') #FALSE\n",
    "\n",
    "#Nash's try, question 5\n",
    "\n",
    "def strCompress(s):\n",
    "    output = \"\"\n",
    "    for i in range(len(s)):\n",
    "        if s[i]==s[i-1]:\n",
    "            pass\n",
    "        else:\n",
    "            countConsecutive = 1\n",
    "            j = i+1\n",
    "            while j <= (len(s)-1) and s[j]==s[i]:\n",
    "                countConsecutive += 1\n",
    "                j += 1\n",
    "            output += s[i] + str(countConsecutive)\n",
    "    return output\n",
    "\n",
    "print strCompress('aaabbbccc') #a3b3c3\n",
    "print strCompress('abc') #a1b1c1\n",
    "print strCompress('agg//11112222??aaaggg') #a1g2/21424?2a3g3"
   ]
  },
  {
   "cell_type": "code",
   "execution_count": 6,
   "metadata": {
    "collapsed": false
   },
   "outputs": [
    {
     "name": "stdout",
     "output_type": "stream",
     "text": [
      "abcdef\n",
      "a3b3c3\n",
      "a2b1c5a3\n",
      "a1g2/21424?2a3g3\n",
      "There once was a man from Nantucket\n"
     ]
    }
   ],
   "source": [
    "#basic string compression using the counts of repeated characters\n",
    "#if compressed string is longer than base string, just return base string\n",
    "#Nick's try\n",
    "def compress_it(in_string):\n",
    "    start_indx = 0\n",
    "    compressed = \"\"\n",
    "    count = 0\n",
    "\n",
    "    for ii in range(len(in_string)):\n",
    "        if (in_string[ii] == in_string[start_indx]) & (ii < len(in_string)):\n",
    "            count += 1\n",
    "\n",
    "        if (in_string[ii] != in_string[start_indx]) or (ii == len(in_string)-1):\n",
    "            if (in_string[ii] != in_string[start_indx]) & (ii == len(in_string)-1):\n",
    "                compressed += \"{0}1\".format(in_string[ii])\n",
    "                \n",
    "            else:\n",
    "                compressed += \"{0}{1}\".format(in_string[start_indx], count)\n",
    "                count = 1\n",
    "                start_indx = ii\n",
    "    \n",
    "    if len(in_string) > len(compressed):\n",
    "        return compressed\n",
    "    else:\n",
    "        return in_string\n",
    "\n",
    "print(compress_it(\"abcdef\"))\n",
    "print(compress_it(\"aaabbbccc\"))\n",
    "print(compress_it(\"aabcccccaaa\"))\n",
    "print(compress_it(\"agg//11112222??aaaggg\"))\n",
    "print(compress_it(\"There once was a man from Nantucket\"))"
   ]
  },
  {
   "cell_type": "code",
   "execution_count": 7,
   "metadata": {
    "collapsed": false
   },
   "outputs": [
    {
     "name": "stdout",
     "output_type": "stream",
     "text": [
      "[[0, 0], [3, 0]]\n",
      "[[0, 0, 0, 0], [5, 0, 7, 0], [0, 0, 0, 0], [4, 0, 6, 0]]\n"
     ]
    }
   ],
   "source": [
    "#write an algorithm such that if an element in an MxN matrix is 0, its entire row and column are set to 0\n",
    "#Nick's try\n",
    "\n",
    "def zeroed_matrix(orig_matrix):\n",
    "    rows = len(orig_matrix)\n",
    "    cols = len(orig_matrix[0])\n",
    "    copy_matrix = []\n",
    "    for ii in range(rows):\n",
    "        if 0 in orig_matrix[ii]:\n",
    "            left = \"[\"\n",
    "            contents = \"0,\"*cols\n",
    "            right = \"]\"\n",
    "            copy_matrix.append(eval(left + contents[:-1] + right))\n",
    "                \n",
    "        else:\n",
    "            for jj in range(cols):\n",
    "                if jj == 0:\n",
    "                    copy_matrix.append([])\n",
    "                    \n",
    "                this_col = []\n",
    "                for kk in range(rows):\n",
    "                    this_col.append(orig_matrix[kk][jj])\n",
    "                    \n",
    "                if 0 in this_col:\n",
    "                    copy_matrix[ii].append(0)\n",
    "                    \n",
    "                else:\n",
    "                    copy_matrix[ii].append(orig_matrix[ii][jj])\n",
    "            \n",
    "#     for row in copy_matrix:\n",
    "#         print row\n",
    "    return copy_matrix\n",
    "\n",
    "print(zeroed_matrix([[1,0],[3,4]]))\n",
    "print(zeroed_matrix([[1,0,3,4],[5,6,7,8],[9,1,2,0],[4,5,6,7]]))"
   ]
  },
  {
   "cell_type": "code",
   "execution_count": 8,
   "metadata": {
    "collapsed": false
   },
   "outputs": [
    {
     "name": "stdout",
     "output_type": "stream",
     "text": [
      "True\n",
      "True\n",
      "True\n",
      "False\n"
     ]
    }
   ],
   "source": [
    "#assume you have a method isSubstring which checks if one word is a substring of another. \n",
    "#Given two strings, write code to check if s2 is a rotation of s1 using only one call to isSubstring\n",
    "def isSubstring(str1, str2):\n",
    "    match = False\n",
    "    \n",
    "    for ii in range(len(str1)):\n",
    "        if str2 == str1[ii:] + str1[:ii]:\n",
    "            match = True\n",
    "    \n",
    "    return match\n",
    "\n",
    "print(isSubstring(\"waterbottle\", \"erbottlewat\"))\n",
    "print(isSubstring(\"beehive\", \"hivebee\"))\n",
    "print(isSubstring(\"abcdcba\", \"aabcdcb\"))\n",
    "print(isSubstring(\"foobar\", \"baroof\"))"
   ]
  },
  {
   "cell_type": "code",
   "execution_count": null,
   "metadata": {
    "collapsed": true
   },
   "outputs": [],
   "source": []
  }
 ],
 "metadata": {
  "kernelspec": {
   "display_name": "Python 2",
   "language": "python",
   "name": "python2"
  },
  "language_info": {
   "codemirror_mode": {
    "name": "ipython",
    "version": 2
   },
   "file_extension": ".py",
   "mimetype": "text/x-python",
   "name": "python",
   "nbconvert_exporter": "python",
   "pygments_lexer": "ipython2",
   "version": "2.7.11"
  }
 },
 "nbformat": 4,
 "nbformat_minor": 0
}
