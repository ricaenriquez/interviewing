{
 "cells": [
  {
   "cell_type": "markdown",
   "metadata": {},
   "source": [
    "# Algorithms from FreeCodeCamp Bonfires\n",
    "These are some algorithm problems from [FreeCodeCamp](http://www.freecodecamp.com) used for testing knowledge in JavaScript. More will be posted with time (since there's a lot). Solutions will be found in a separate notebook [here](https://github.com/ricaenriquez/interviewing/freecodecamp_algorithm_solutions.ipynb). Solutions may come up slow, since JS must be translated into Python (and it's rarely a direct mapping).\n",
    "\n",
    "As more are posted, they will be added to the following index:\n",
    "- [Reverse A String](#Reverse-A-String)\n",
    "- [Factorialize A Number](#Factorialize-A-Number)\n",
    "- [Check for Palindromes](#Check-for-Palindromes)\n",
    "- [Find the Longest Word](#Find-the-Longest-Word)\n",
    "- [Return Largest Numbers in Lists](#Return-Largest-Numbers-in-Lists)"
   ]
  },
  {
   "cell_type": "markdown",
   "metadata": {},
   "source": [
    "##Reverse A String\n",
    "Write a function that reverses any input string. Make sure to maintain case and punctuation."
   ]
  },
  {
   "cell_type": "markdown",
   "metadata": {},
   "source": [
    "## Factorialize A Number\n",
    "Write a function that takes in a given number and produces the factorial of that number. Bear in mind the [definition of a factorial](https://en.wikipedia.org/wiki/Factorial)."
   ]
  },
  {
   "cell_type": "markdown",
   "metadata": {},
   "source": [
    "##Check for Palindromes\n",
    "Write a function that checks a string to see if it's a palindrome, where regardless of whitespace or punctuation, the characters are the same upon reversal of the string."
   ]
  },
  {
   "cell_type": "markdown",
   "metadata": {},
   "source": [
    "##Find the Longest Word\n",
    "Given a string of words, find the longest word as well as the length of that word"
   ]
  },
  {
   "cell_type": "markdown",
   "metadata": {},
   "source": [
    "##Return Largest Numbers in Lists\n",
    "Given a list of lists (arbitrary number), find the largest number in each list"
   ]
  },
  {
   "cell_type": "code",
   "execution_count": null,
   "metadata": {
    "collapsed": true
   },
   "outputs": [],
   "source": []
  }
 ],
 "metadata": {
  "kernelspec": {
   "display_name": "Python 2",
   "language": "python",
   "name": "python2"
  },
  "language_info": {
   "codemirror_mode": {
    "name": "ipython",
    "version": 2
   },
   "file_extension": ".py",
   "mimetype": "text/x-python",
   "name": "python",
   "nbconvert_exporter": "python",
   "pygments_lexer": "ipython2",
   "version": "2.7.10"
  }
 },
 "nbformat": 4,
 "nbformat_minor": 0
}
