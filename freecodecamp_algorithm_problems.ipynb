{
 "cells": [
  {
   "cell_type": "markdown",
   "metadata": {},
   "source": [
    "# Algorithms from FreeCodeCamp Bonfires and Other Places\n",
    "These are some algorithm problems from [FreeCodeCamp](http://www.freecodecamp.com) used for testing knowledge in JavaScript. I'm also including other interviewing problems that I've had in interviews and have found elsewhere. More will be posted with time (since there's a lot). Solutions will be found in a separate notebook [here](https://github.com/ricaenriquez/interviewing/blob/master/freecodecamp_algorithm_solutions.ipynb). Solutions may come up slow, since JS must be translated into Python (and it's rarely a direct mapping).\n",
    "\n",
    "As more are posted, they will be added to the following index:\n",
    "- [Reverse A String](#Reverse-A-String)\n",
    "- [Factorialize A Number](#Factorialize-A-Number)\n",
    "- [Check for Palindromes](#Check-for-Palindromes)\n",
    "- [Find the Longest Word](#Find-the-Longest-Word)\n",
    "- [Return Largest Numbers in Lists](#Return-Largest-Numbers-in-Lists)\n",
    "- [Mutations](#Mutations)\n",
    "- [Matching Properties](#Matching-Properties)\n",
    "- [Recursion](#Recursion)\n",
    "- [Swap Numbers](#Swap-Numbers)\n",
    "- [Where Do I Belong](#Where-Do-I-Belong)\n"
   ]
  },
  {
   "cell_type": "markdown",
   "metadata": {},
   "source": [
    "## Reverse A String\n",
    "Write a function that reverses any input string. Make sure to maintain case and punctuation."
   ]
  },
  {
   "cell_type": "markdown",
   "metadata": {},
   "source": [
    "## Factorialize A Number\n",
    "Write a function that takes in a given number and produces the factorial of that number. Bear in mind the [definition of a factorial](https://en.wikipedia.org/wiki/Factorial)."
   ]
  },
  {
   "cell_type": "markdown",
   "metadata": {},
   "source": [
    "## Check for Palindromes\n",
    "Write a function that checks a string to see if it's a palindrome, where regardless of whitespace or punctuation, the characters are the same upon reversal of the string."
   ]
  },
  {
   "cell_type": "markdown",
   "metadata": {},
   "source": [
    "## Find the Longest Word\n",
    "Given a string of words, find the longest word as well as the length of that word"
   ]
  },
  {
   "cell_type": "markdown",
   "metadata": {},
   "source": [
    "## Return Largest Numbers in Lists\n",
    "Given a list of lists (arbitrary number), find the largest number in each list"
   ]
  },
  {
   "cell_type": "markdown",
   "metadata": {
    "collapsed": true
   },
   "source": [
    "## Mutations\n",
    "Check to see if one string contains all of the letters in a second string"
   ]
  },
  {
   "cell_type": "markdown",
   "metadata": {},
   "source": [
    "## Matching Properties\n",
    "Make a function that looks through an array of dicts and returns an array of dicts that match key-value pairs in the second argument. For example, the if the first argument is `[{ 'first': 'Romeo', 'last': 'Montague' }, { 'first': 'Mercutio', 'last': null }, { 'first': 'Tybalt', 'last': 'Capulet' }]` and the second argument is `{'last': 'Capulet'}`, then you must return `{'first': 'Tybalt', 'last': 'Capulet'}`"
   ]
  },
  {
   "cell_type": "markdown",
   "metadata": {
    "collapsed": true
   },
   "source": [
    "## Recursion\n",
    "Create a function called dumpList that takes as parameters a string, and a list of arbitrary complexity and nesting depth and prints the value of each list element on a separate line. The value of each line should be preceded by the stringg and numbers indicating the depth and index of the element in the list. Assume that the list contains only strings and other nested lists."
   ]
  },
  {
   "cell_type": "markdown",
   "metadata": {},
   "source": [
    "## Swap Numbers\n",
    "Given two numbers, write a function that swaps their values without using a third variable"
   ]
  },
  {
   "cell_type": "markdown",
   "metadata": {},
   "source": [
    "## Where Do I Belong\n",
    "Return the lowest index at which a value (second argument) should be inserted into an array (first argument) once it has been sorted.\n",
    "\n",
    "For example, ```func([1,2,3,4], 1.5)``` should return 1 because it is greater than 1 (index 0), but less than 2 (index 1).\n",
    "\n",
    "Likewise, ```func([20,3,5], 19)``` should return 2 because once the array has been sorted it will look like [3,5,20] and 19 is less than 20 (index 2) and greater than 5 (index 1)."
   ]
  },
  {
   "cell_type": "code",
   "execution_count": null,
   "metadata": {
    "collapsed": true
   },
   "outputs": [],
   "source": []
  }
 ],
 "metadata": {
  "kernelspec": {
   "display_name": "Python 2",
   "language": "python",
   "name": "python2"
  },
  "language_info": {
   "codemirror_mode": {
    "name": "ipython",
    "version": 2
   },
   "file_extension": ".py",
   "mimetype": "text/x-python",
   "name": "python",
   "nbconvert_exporter": "python",
   "pygments_lexer": "ipython2",
   "version": "2.7.11"
  }
 },
 "nbformat": 4,
 "nbformat_minor": 0
}
