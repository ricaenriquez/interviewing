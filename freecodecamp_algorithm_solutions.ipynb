{
 "cells": [
  {
   "cell_type": "markdown",
   "metadata": {},
   "source": [
    "# FreeCodeCamp Algorithm Solutions\n",
    "<strong>Contributor(s):</strong>\n",
    "- Nicholas Hunt-Walker | <a href=\"mailto:nhuntwalker@gmail.com\">nhuntwalker@gmail.com</a>\n",
    "\n",
    "This notebook will contain solutions for the exercises in the [\"Algorithms from FreeCodeCamp Bonfires\" ipython notebook](https://github.com/ricaenriquez/interviewing/freecodecamp_algorithm_problems.ipynb). Note that these aren't the ONLY solutions, just ones that work.\n",
    "- [Reverse A String](#Reverse-A-String)\n",
    "- [Factorialize A Number](#Factorialize-A-Number)\n",
    "- [Check For Palindromes](#Check-For-Palindromes)\n",
    "- [Find the Longest Word](#Find-the-Longest-Word)\n",
    "- [Return Largest Numbers in Lists](#Return-Largest-Numbers-in-Lists)\n",
    "- [Mutations](#Mutations)\n",
    "- [Matching Properties](#Matching-Properties)"
   ]
  },
  {
   "cell_type": "markdown",
   "metadata": {},
   "source": [
    "## Reverse A String"
   ]
  },
  {
   "cell_type": "code",
   "execution_count": 1,
   "metadata": {
    "collapsed": false
   },
   "outputs": [
    {
     "name": "stdout",
     "output_type": "stream",
     "text": [
      ".uoy rof selppa owt evah I\n",
      "?doG ees eseeg oD\n"
     ]
    }
   ],
   "source": [
    "def reverse_string(string_in):\n",
    "    string_out = \"\"\n",
    "    for ii in range(1, len(string_in) + 1):\n",
    "        string_out += string_in[-ii]\n",
    "    return string_out\n",
    "\n",
    "print(reverse_string(\"I have two apples for you.\"))\n",
    "print(reverse_string(\"Do geese see God?\"))"
   ]
  },
  {
   "cell_type": "markdown",
   "metadata": {},
   "source": [
    "##Factorialize A Number"
   ]
  },
  {
   "cell_type": "code",
   "execution_count": 2,
   "metadata": {
    "collapsed": false
   },
   "outputs": [
    {
     "name": "stdout",
     "output_type": "stream",
     "text": [
      "120\n",
      "1405006117752879898543142606244511569936384000000000\n",
      "1\n",
      "-10 is not an integer greater than or equal to zero\n"
     ]
    }
   ],
   "source": [
    "def factorialize(num):\n",
    "    total = num\n",
    "    if (num > 0) and (type(num) == int):\n",
    "        for ii in range(1, num):\n",
    "            total *= ii\n",
    "    \n",
    "    elif num == 0:\n",
    "        total = 1\n",
    "        \n",
    "    else:\n",
    "        total = \"{0} is not an integer greater than or equal to zero\".format(num)\n",
    "        \n",
    "    return total\n",
    "\n",
    "print(factorialize(5))\n",
    "print(factorialize(42))\n",
    "print(factorialize(0))\n",
    "print(factorialize(-10))"
   ]
  },
  {
   "cell_type": "markdown",
   "metadata": {},
   "source": [
    "##Check For Palindromes"
   ]
  },
  {
   "cell_type": "code",
   "execution_count": 3,
   "metadata": {
    "collapsed": false
   },
   "outputs": [
    {
     "name": "stdout",
     "output_type": "stream",
     "text": [
      "False\n",
      "True\n",
      "True\n"
     ]
    }
   ],
   "source": [
    "def palindrome_check(string_in):\n",
    "    stripped_input = string_in.lower().replace(\",\", \"\").replace(\".\", \"\").replace(\"-\",\"\").replace(\" \",\"\").replace(\"?\",\"\").replace(\"!\",\"\")\n",
    "    reversed_string = reverse_string(stripped_input)\n",
    "    if stripped_input == reversed_string:\n",
    "        return True\n",
    "    else:\n",
    "        return False\n",
    "\n",
    "print(palindrome_check(\"This is not a palindrome\"))\n",
    "print(palindrome_check(\"A man, a plan, a canal. Panama\"))\n",
    "print(palindrome_check(\"Do geese see God?\"))"
   ]
  },
  {
   "cell_type": "markdown",
   "metadata": {},
   "source": [
    "##Find the Longest Word"
   ]
  },
  {
   "cell_type": "code",
   "execution_count": 4,
   "metadata": {
    "collapsed": false
   },
   "outputs": [
    {
     "name": "stdout",
     "output_type": "stream",
     "text": [
      "('Nantucket', 9)\n",
      "('consummation', 12)\n",
      "('jumpman', 7)\n",
      "(['letters,', 'longest'], 7)\n"
     ]
    }
   ],
   "source": [
    "def longest_word(string_of_words):\n",
    "    string_of_words = string_of_words.replace(\",\", \"\").replace(\"?\",\"\").replace(\"!\",\"\").replace(\".\",\"\")\n",
    "    word_set = list(set(string_of_words.split()))\n",
    "    longest_word = word_set[0]\n",
    "    word_length = len(word_set[0])\n",
    "    \n",
    "    for ii in range(1, len(word_set)):\n",
    "        if len(word_set[ii]) > word_length:\n",
    "            longest_word = word_set[ii]\n",
    "            word_length = len(word_set[ii])\n",
    "        elif (len(word_set[ii]) == word_length) and (word_set[ii].lower() != longest_word.lower()):\n",
    "            longest_word += \", \" + word_set[ii]\n",
    "    \n",
    "    if \",\" in longest_word:\n",
    "        longest_word = longest_word.split()\n",
    "    return longest_word, word_length\n",
    "\n",
    "print(longest_word(\"There once was a man from Nantucket\"))\n",
    "print(longest_word(\"To Be, or not to be, that is the question. Whether 'tis nobler in the mind to suffer the slings and arrows of outrageous fortune, or to take up arms against a sea of troubles and by opposing end them? To die, to sleep, no more; and by a sleep to say we end the heart-ache and the thousand natural shocks that flesh is heir to, 'tis a consummation devoutly to be wish'd\"))\n",
    "print(longest_word(\"Jumpman, jumpman, jumpman\"))\n",
    "print(longest_word(\"There should be two words that tie for the longest letters\"))"
   ]
  },
  {
   "cell_type": "markdown",
   "metadata": {},
   "source": [
    "##Return Largest Numbers in Lists"
   ]
  },
  {
   "cell_type": "code",
   "execution_count": 5,
   "metadata": {
    "collapsed": false
   },
   "outputs": [
    {
     "name": "stdout",
     "output_type": "stream",
     "text": [
      "[5, 27, 39, 1001]\n",
      "[23]\n",
      "[48, 38, 40, 47, 28]\n"
     ]
    }
   ],
   "source": [
    "def largest_of_lists(*args):\n",
    "    maxima = []\n",
    "    \n",
    "    for each_list in args:\n",
    "        maxima.append(max(each_list))\n",
    "    \n",
    "    return maxima\n",
    "\n",
    "print(largest_of_lists([4, 5, 1, 3], [13, 27, 18, 26], [32, 35, 37, 39], [1000, 1001, 857, 1]))\n",
    "print(largest_of_lists([10, 6, 3, 7, 23]))\n",
    "print(largest_of_lists([32, 48, 18], [38, 21], [6, 22, 17, 40, 14], [32, 47, 19], [28, 22, 6, 28, 16, 21]))"
   ]
  },
  {
   "cell_type": "markdown",
   "metadata": {
    "collapsed": true
   },
   "source": [
    "##Mutations"
   ]
  },
  {
   "cell_type": "code",
   "execution_count": 6,
   "metadata": {
    "collapsed": false
   },
   "outputs": [
    {
     "name": "stdout",
     "output_type": "stream",
     "text": [
      "False\n",
      "True\n",
      "True\n",
      "False\n"
     ]
    }
   ],
   "source": [
    "def mutation(master_string, checked_string):\n",
    "    for char in checked_string.lower():\n",
    "        if char not in master_string.lower():\n",
    "            return False\n",
    "    \n",
    "    return True\n",
    "\n",
    "print(mutation(\"hello\", \"hey\"))\n",
    "print(mutation(\"hello\", \"HEllO\"))\n",
    "print(mutation(\"zyxwvutsrqponmlkjihgfedcba\", \"qrstu\"))\n",
    "print(mutation(\"hello\", \"neo\"))"
   ]
  },
  {
   "cell_type": "markdown",
   "metadata": {},
   "source": [
    "##Matching Properties"
   ]
  },
  {
   "cell_type": "code",
   "execution_count": 7,
   "metadata": {
    "collapsed": false
   },
   "outputs": [
    {
     "name": "stdout",
     "output_type": "stream",
     "text": [
      "[{'last': 'Capulet', 'first': 'Tybalt'}]\n",
      "[{'a': 1}, {'a': 1, 'b': 2}]\n",
      "[{'a': 1, 'b': 2}, {'a': 1, 'c': 2, 'b': 2}]\n",
      "[{'a': 1, 'c': 2, 'b': 2}]\n"
     ]
    }
   ],
   "source": [
    "def match_keyval(dict_array, wanted_prop):\n",
    "    output = []\n",
    "    \n",
    "    def key_check(dict_test, dict_master):\n",
    "        for key in dict_master.keys():\n",
    "            if key not in dict_test.keys():\n",
    "                return False\n",
    "        else:\n",
    "            return True\n",
    "        \n",
    "    for the_dict in dict_array:\n",
    "        if key_check(the_dict, wanted_prop):\n",
    "            for key in wanted_prop.keys():\n",
    "                if wanted_prop[key] != the_dict[key]:\n",
    "                    pass\n",
    "                else:\n",
    "                    if the_dict not in output:\n",
    "                        output.append(the_dict)\n",
    "                    \n",
    "    return output\n",
    "\n",
    "print(match_keyval([{ 'first': 'Romeo', 'last': 'Montague' }, { 'first': 'Mercutio', 'last': '' }, { 'first': 'Tybalt', 'last': 'Capulet' }],\n",
    "            {'last': 'Capulet'}))\n",
    "print(match_keyval([{\"a\":1}, {\"a\":1}, {\"a\":1, \"b\":2}], {\"a\":1}))\n",
    "print(match_keyval([{\"a\":1, \"b\":2}, {\"a\":1}, {\"a\":1, \"b\":2, \"c\":2}], {\"a\":1, \"b\":2}))\n",
    "print(match_keyval([{\"a\":1, \"b\":2}, {\"a\":1}, {\"a\":1, \"b\":2, \"c\":2}], {\"a\":1, \"c\":2}))"
   ]
  },
  {
   "cell_type": "code",
   "execution_count": null,
   "metadata": {
    "collapsed": true
   },
   "outputs": [],
   "source": []
  }
 ],
 "metadata": {
  "kernelspec": {
   "display_name": "Python 2",
   "language": "python",
   "name": "python2"
  },
  "language_info": {
   "codemirror_mode": {
    "name": "ipython",
    "version": 2
   },
   "file_extension": ".py",
   "mimetype": "text/x-python",
   "name": "python",
   "nbconvert_exporter": "python",
   "pygments_lexer": "ipython2",
   "version": "2.7.10"
  }
 },
 "nbformat": 4,
 "nbformat_minor": 0
}
