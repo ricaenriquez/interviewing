{
 "cells": [
  {
   "cell_type": "markdown",
   "metadata": {},
   "source": [
    "#SQL With Pandas\n",
    "A notebook for doing some SQL examples of matrix operations with pandas. Keep it nice and simple."
   ]
  },
  {
   "cell_type": "code",
   "execution_count": 1,
   "metadata": {
    "collapsed": true
   },
   "outputs": [],
   "source": [
    "import pandas as pd\n",
    "import numpy as np\n",
    "import pandasql"
   ]
  },
  {
   "cell_type": "code",
   "execution_count": 2,
   "metadata": {
    "collapsed": true
   },
   "outputs": [],
   "source": [
    "np.random.seed(4)"
   ]
  },
  {
   "cell_type": "markdown",
   "metadata": {},
   "source": [
    "Suppose you had two matrices, A and B. For the sake of argument let's say they're both square matrices of size 5. Use  SQL syntax to represent them in a database and perform matrix multiplication."
   ]
  },
  {
   "cell_type": "code",
   "execution_count": 3,
   "metadata": {
    "collapsed": true
   },
   "outputs": [],
   "source": [
    "## Set up two 5x5 matrices\n",
    "data_dict = {\"row\":[0, 0, 0, 0, 0, 1, 1, 1, 1, 1, 2, 2, 2, 2, 2, 3, 3, 3, 3, 3, 4, 4, 4, 4, 4,\n",
    "                    0, 0, 0, 0, 0, 1, 1, 1, 1, 1, 2, 2, 2, 2, 2, 3, 3, 3, 3, 3, 4, 4, 4, 4, 4], \n",
    "             \"col\":[0, 1, 2, 3, 4, 0, 1, 2, 3, 4, 0, 1, 2, 3, 4, 0, 1, 2, 3, 4, 0, 1, 2, 3, 4,\n",
    "                    0, 1, 2, 3, 4, 0, 1, 2, 3, 4, 0, 1, 2, 3, 4, 0, 1, 2, 3, 4, 0, 1, 2, 3, 4], \n",
    "             \"val\":np.random.randint(10, size=50), \n",
    "             \"matrix\":[\"A\",\"A\",\"A\",\"A\",\"A\",\"A\",\"A\",\"A\",\"A\",\"A\",\"A\",\"A\",\"A\",\"A\",\"A\",\"A\",\"A\",\"A\",\"A\",\"A\",\"A\",\"A\",\"A\",\"A\",\"A\",\n",
    "                       \"B\",\"B\",\"B\",\"B\",\"B\",\"B\",\"B\",\"B\",\"B\",\"B\",\"B\",\"B\",\"B\",\"B\",\"B\",\"B\",\"B\",\"B\",\"B\",\"B\",\"B\",\"B\",\"B\",\"B\",\"B\"]}"
   ]
  },
  {
   "cell_type": "code",
   "execution_count": 4,
   "metadata": {
    "collapsed": false
   },
   "outputs": [],
   "source": [
    "data_df = pd.DataFrame(data_dict)"
   ]
  },
  {
   "cell_type": "markdown",
   "metadata": {},
   "source": [
    "## Matrix Addition/Subtraction Operations\n",
    "$$\n",
    "\\mathbf{A} \\pm \\mathbf{B} = \\{ A_{ij} \\pm B_{ij}\\}_{i,j}^{M,N}\n",
    "$$\n",
    "For $i$ in $M$ rows and $j$ in $N$ columns"
   ]
  },
  {
   "cell_type": "code",
   "execution_count": 5,
   "metadata": {
    "collapsed": false
   },
   "outputs": [
    {
     "data": {
      "text/html": [
       "<div>\n",
       "<table border=\"1\" class=\"dataframe\">\n",
       "  <thead>\n",
       "    <tr style=\"text-align: right;\">\n",
       "      <th></th>\n",
       "      <th>row</th>\n",
       "      <th>col</th>\n",
       "      <th>A.val + B.val</th>\n",
       "    </tr>\n",
       "  </thead>\n",
       "  <tbody>\n",
       "    <tr>\n",
       "      <th>0</th>\n",
       "      <td>0</td>\n",
       "      <td>0</td>\n",
       "      <td>15</td>\n",
       "    </tr>\n",
       "    <tr>\n",
       "      <th>1</th>\n",
       "      <td>0</td>\n",
       "      <td>1</td>\n",
       "      <td>7</td>\n",
       "    </tr>\n",
       "    <tr>\n",
       "      <th>2</th>\n",
       "      <td>0</td>\n",
       "      <td>2</td>\n",
       "      <td>6</td>\n",
       "    </tr>\n",
       "    <tr>\n",
       "      <th>3</th>\n",
       "      <td>0</td>\n",
       "      <td>3</td>\n",
       "      <td>16</td>\n",
       "    </tr>\n",
       "    <tr>\n",
       "      <th>4</th>\n",
       "      <td>0</td>\n",
       "      <td>4</td>\n",
       "      <td>8</td>\n",
       "    </tr>\n",
       "    <tr>\n",
       "      <th>5</th>\n",
       "      <td>1</td>\n",
       "      <td>0</td>\n",
       "      <td>10</td>\n",
       "    </tr>\n",
       "    <tr>\n",
       "      <th>6</th>\n",
       "      <td>1</td>\n",
       "      <td>1</td>\n",
       "      <td>9</td>\n",
       "    </tr>\n",
       "    <tr>\n",
       "      <th>7</th>\n",
       "      <td>1</td>\n",
       "      <td>2</td>\n",
       "      <td>9</td>\n",
       "    </tr>\n",
       "    <tr>\n",
       "      <th>8</th>\n",
       "      <td>1</td>\n",
       "      <td>3</td>\n",
       "      <td>15</td>\n",
       "    </tr>\n",
       "    <tr>\n",
       "      <th>9</th>\n",
       "      <td>1</td>\n",
       "      <td>4</td>\n",
       "      <td>10</td>\n",
       "    </tr>\n",
       "  </tbody>\n",
       "</table>\n",
       "</div>"
      ],
      "text/plain": [
       "   row  col  A.val + B.val\n",
       "0    0    0             15\n",
       "1    0    1              7\n",
       "2    0    2              6\n",
       "3    0    3             16\n",
       "4    0    4              8\n",
       "5    1    0             10\n",
       "6    1    1              9\n",
       "7    1    2              9\n",
       "8    1    3             15\n",
       "9    1    4             10"
      ]
     },
     "execution_count": 5,
     "metadata": {},
     "output_type": "execute_result"
    }
   ],
   "source": [
    "the_query = \"SELECT A.row, A.col, A.val + B.val\"\n",
    "the_query += \" FROM data_df as A, data_df as B\"\n",
    "the_query += \" WHERE A.matrix = 'A' AND B.matrix = 'B'\"\n",
    "the_query += \" AND A.row = B.row AND A.col = B.col\"\n",
    "the_query += \" LIMIT 10;\"\n",
    "pandasql.sqldf(the_query, locals())"
   ]
  },
  {
   "cell_type": "code",
   "execution_count": 6,
   "metadata": {
    "collapsed": true
   },
   "outputs": [],
   "source": [
    "M_a = np.matrix(data_dict[\"val\"][:25]).reshape((5,5))\n",
    "M_b = np.matrix(data_dict[\"val\"][25:]).reshape((5,5))"
   ]
  },
  {
   "cell_type": "code",
   "execution_count": 7,
   "metadata": {
    "collapsed": false
   },
   "outputs": [
    {
     "data": {
      "text/plain": [
       "matrix([[15,  7,  6, 16,  8],\n",
       "        [10,  9,  9, 15, 10],\n",
       "        [ 8,  9, 11,  6,  5],\n",
       "        [ 8, 13,  5,  1,  7],\n",
       "        [ 6, 14, 18,  6, 13]])"
      ]
     },
     "execution_count": 7,
     "metadata": {},
     "output_type": "execute_result"
    }
   ],
   "source": [
    "M_a + M_b"
   ]
  },
  {
   "cell_type": "markdown",
   "metadata": {},
   "source": [
    "## Matrix Dot Product\n",
    "For matrices **A** and **B**, \n",
    "$$\\mathbf{A} = \\begin{bmatrix} \n",
    "a_{11} & a_{12}\\\\\n",
    "a_{21} & a_{22}\\\\\n",
    "\\end{bmatrix}$$\n",
    "\n",
    "$$\\mathbf{B} = \\begin{bmatrix} \n",
    "b_{11} & b_{12}\\\\\n",
    "b_{21} & b_{22}\\\\\n",
    "\\end{bmatrix}$$\n",
    "\n",
    "\\begin{align}\n",
    "\\mathbf{dot}(\\mathbf{A},\\mathbf{B}) &=& \\mathbf{A}\\cdot\\mathbf{B} = \\begin{bmatrix} \n",
    "a_{11}\\cdot b_{11} + a_{12}\\cdot b_{21} & a_{11}\\cdot b_{12} + a_{12}\\cdot b_{22} \\\\\n",
    "a_{21}\\cdot b_{11} + a_{22}\\cdot b_{21} & a_{21}\\cdot b_{12} + a_{22}\\cdot b_{22} \\\\\n",
    "\\end{bmatrix}\n",
    "\\end{align}"
   ]
  },
  {
   "cell_type": "code",
   "execution_count": 8,
   "metadata": {
    "collapsed": false
   },
   "outputs": [
    {
     "data": {
      "text/html": [
       "<div>\n",
       "<table border=\"1\" class=\"dataframe\">\n",
       "  <thead>\n",
       "    <tr style=\"text-align: right;\">\n",
       "      <th></th>\n",
       "      <th>row</th>\n",
       "      <th>col</th>\n",
       "      <th>SUM(A.val * B.val)</th>\n",
       "    </tr>\n",
       "  </thead>\n",
       "  <tbody>\n",
       "    <tr>\n",
       "      <th>0</th>\n",
       "      <td>0</td>\n",
       "      <td>0</td>\n",
       "      <td>90</td>\n",
       "    </tr>\n",
       "    <tr>\n",
       "      <th>1</th>\n",
       "      <td>0</td>\n",
       "      <td>1</td>\n",
       "      <td>184</td>\n",
       "    </tr>\n",
       "    <tr>\n",
       "      <th>2</th>\n",
       "      <td>0</td>\n",
       "      <td>2</td>\n",
       "      <td>117</td>\n",
       "    </tr>\n",
       "    <tr>\n",
       "      <th>3</th>\n",
       "      <td>0</td>\n",
       "      <td>3</td>\n",
       "      <td>106</td>\n",
       "    </tr>\n",
       "    <tr>\n",
       "      <th>4</th>\n",
       "      <td>0</td>\n",
       "      <td>4</td>\n",
       "      <td>74</td>\n",
       "    </tr>\n",
       "    <tr>\n",
       "      <th>5</th>\n",
       "      <td>1</td>\n",
       "      <td>0</td>\n",
       "      <td>98</td>\n",
       "    </tr>\n",
       "    <tr>\n",
       "      <th>6</th>\n",
       "      <td>1</td>\n",
       "      <td>1</td>\n",
       "      <td>156</td>\n",
       "    </tr>\n",
       "    <tr>\n",
       "      <th>7</th>\n",
       "      <td>1</td>\n",
       "      <td>2</td>\n",
       "      <td>144</td>\n",
       "    </tr>\n",
       "    <tr>\n",
       "      <th>8</th>\n",
       "      <td>1</td>\n",
       "      <td>3</td>\n",
       "      <td>105</td>\n",
       "    </tr>\n",
       "    <tr>\n",
       "      <th>9</th>\n",
       "      <td>1</td>\n",
       "      <td>4</td>\n",
       "      <td>90</td>\n",
       "    </tr>\n",
       "  </tbody>\n",
       "</table>\n",
       "</div>"
      ],
      "text/plain": [
       "   row  col  SUM(A.val * B.val)\n",
       "0    0    0                  90\n",
       "1    0    1                 184\n",
       "2    0    2                 117\n",
       "3    0    3                 106\n",
       "4    0    4                  74\n",
       "5    1    0                  98\n",
       "6    1    1                 156\n",
       "7    1    2                 144\n",
       "8    1    3                 105\n",
       "9    1    4                  90"
      ]
     },
     "execution_count": 8,
     "metadata": {},
     "output_type": "execute_result"
    }
   ],
   "source": [
    "the_query = \"SELECT A.row, B.col, SUM(A.val * B.val)\"\n",
    "the_query += \" FROM data_df as A, data_df as B\"\n",
    "the_query += \" WHERE A.matrix = 'A' AND B.matrix = 'B'\"\n",
    "the_query += \" AND A.col = B.row\"\n",
    "the_query += \" GROUP BY A.row, B.col\"\n",
    "the_query += \" LIMIT 10;\"\n",
    "pandasql.sqldf(the_query, locals())"
   ]
  },
  {
   "cell_type": "code",
   "execution_count": 9,
   "metadata": {
    "collapsed": false
   },
   "outputs": [
    {
     "data": {
      "text/plain": [
       "matrix([[ 90, 184, 117, 106,  74],\n",
       "        [ 98, 156, 144, 105,  90],\n",
       "        [ 92, 131,  85, 148,  72],\n",
       "        [ 66, 103, 102,  86,  76],\n",
       "        [ 77, 153, 118, 104,  89]])"
      ]
     },
     "execution_count": 9,
     "metadata": {},
     "output_type": "execute_result"
    }
   ],
   "source": [
    "np.dot(M_a, M_b)"
   ]
  },
  {
   "cell_type": "markdown",
   "metadata": {},
   "source": [
    "# Practice Questions from ProgrammerInterview.Com"
   ]
  },
  {
   "cell_type": "code",
   "execution_count": 10,
   "metadata": {
    "collapsed": false
   },
   "outputs": [],
   "source": [
    "salesperson = pd.DataFrame({\n",
    "        \"salesID\" : [1,2,5,7,8,11],\n",
    "        \"Name\" : [\"Abe\",\"Bob\",\"Chris\",\"Dan\",\"Ken\",\"Joe\"],\n",
    "        \"Age\" : [61,34,34,41,57,38],\n",
    "        \"Salary\" : [140000,44000,40000,52000,115000,38000]\n",
    "    })\n",
    "\n",
    "customer = pd.DataFrame({\n",
    "        \"custID\" : [4,6,7,9],\n",
    "        \"Name\" : [\"Samsonic\", \"Panasung\", \"Samony\", \"Orange\"],\n",
    "        \"City\" : [\"pleasant\", \"oaktown\", \"jackson\", \"jackson\"],\n",
    "        \"IndustryType\" : [\"J\",\"J\",\"B\",\"B\"]\n",
    "    })\n",
    "\n",
    "orders = pd.DataFrame({\n",
    "        \"Number\" : [10,20,30,40,50,60,70],\n",
    "        \"order_date\" : [\"8/2/96\", \"1/30/99\", \"7/14/95\", \"1/29/98\", \"2/3/98\", \"3/2/98\", \"5/6/98\"],\n",
    "        \"cust_id\" : [4,4,9,7,6,6,9],\n",
    "        \"salesperson_id\" : [2,8,1,2,7,7,7],\n",
    "        \"Amount\" : [540,1800,460,2400,600,720,150]\n",
    "    })"
   ]
  },
  {
   "cell_type": "markdown",
   "metadata": {},
   "source": [
    "Find the names of all salespeople that have an order with \"Samsonic\"."
   ]
  },
  {
   "cell_type": "code",
   "execution_count": 11,
   "metadata": {
    "collapsed": false
   },
   "outputs": [
    {
     "data": {
      "text/html": [
       "<div>\n",
       "<table border=\"1\" class=\"dataframe\">\n",
       "  <thead>\n",
       "    <tr style=\"text-align: right;\">\n",
       "      <th></th>\n",
       "      <th>Name</th>\n",
       "    </tr>\n",
       "  </thead>\n",
       "  <tbody>\n",
       "    <tr>\n",
       "      <th>0</th>\n",
       "      <td>Bob</td>\n",
       "    </tr>\n",
       "    <tr>\n",
       "      <th>1</th>\n",
       "      <td>Ken</td>\n",
       "    </tr>\n",
       "  </tbody>\n",
       "</table>\n",
       "</div>"
      ],
      "text/plain": [
       "  Name\n",
       "0  Bob\n",
       "1  Ken"
      ]
     },
     "execution_count": 11,
     "metadata": {},
     "output_type": "execute_result"
    }
   ],
   "source": [
    "the_query = \"SELECT sales.Name\"\n",
    "the_query += \" FROM salesperson AS sales\"\n",
    "the_query += \" JOIN orders AS ord\"\n",
    "the_query += \" ON sales.salesID = ord.salesperson_id\"\n",
    "the_query += \" JOIN customer AS cust\"\n",
    "the_query += \" ON cust.custID = ord.cust_id\"\n",
    "the_query += \" WHERE cust.Name = 'Samsonic'\"\n",
    "pandasql.sqldf(the_query, locals())"
   ]
  },
  {
   "cell_type": "markdown",
   "metadata": {},
   "source": [
    "Find the names of all salespeople that do not have any order with Samsonic"
   ]
  },
  {
   "cell_type": "code",
   "execution_count": 12,
   "metadata": {
    "collapsed": false
   },
   "outputs": [
    {
     "data": {
      "text/html": [
       "<div>\n",
       "<table border=\"1\" class=\"dataframe\">\n",
       "  <thead>\n",
       "    <tr style=\"text-align: right;\">\n",
       "      <th></th>\n",
       "      <th>Name</th>\n",
       "    </tr>\n",
       "  </thead>\n",
       "  <tbody>\n",
       "    <tr>\n",
       "      <th>0</th>\n",
       "      <td>Dan</td>\n",
       "    </tr>\n",
       "    <tr>\n",
       "      <th>1</th>\n",
       "      <td>Bob</td>\n",
       "    </tr>\n",
       "    <tr>\n",
       "      <th>2</th>\n",
       "      <td>Abe</td>\n",
       "    </tr>\n",
       "  </tbody>\n",
       "</table>\n",
       "</div>"
      ],
      "text/plain": [
       "  Name\n",
       "0  Dan\n",
       "1  Bob\n",
       "2  Abe"
      ]
     },
     "execution_count": 12,
     "metadata": {},
     "output_type": "execute_result"
    }
   ],
   "source": [
    "the_query = \"SELECT DISTINCT sales.Name\"\n",
    "the_query += \" FROM salesperson AS sales\"\n",
    "the_query += \" JOIN orders AS ord\"\n",
    "the_query += \" ON sales.salesID = ord.salesperson_id\"\n",
    "the_query += \" JOIN customer AS cust\"\n",
    "the_query += \" ON cust.custID = ord.cust_id\"\n",
    "the_query += \" WHERE cust.Name NOT LIKE 'Samsonic'\"\n",
    "pandasql.sqldf(the_query, locals())"
   ]
  },
  {
   "cell_type": "markdown",
   "metadata": {},
   "source": [
    "Find the names of salespeople that have 2 or more orders"
   ]
  },
  {
   "cell_type": "code",
   "execution_count": 13,
   "metadata": {
    "collapsed": false
   },
   "outputs": [
    {
     "data": {
      "text/html": [
       "<div>\n",
       "<table border=\"1\" class=\"dataframe\">\n",
       "  <thead>\n",
       "    <tr style=\"text-align: right;\">\n",
       "      <th></th>\n",
       "      <th>Name</th>\n",
       "    </tr>\n",
       "  </thead>\n",
       "  <tbody>\n",
       "    <tr>\n",
       "      <th>0</th>\n",
       "      <td>Bob</td>\n",
       "    </tr>\n",
       "    <tr>\n",
       "      <th>1</th>\n",
       "      <td>Dan</td>\n",
       "    </tr>\n",
       "  </tbody>\n",
       "</table>\n",
       "</div>"
      ],
      "text/plain": [
       "  Name\n",
       "0  Bob\n",
       "1  Dan"
      ]
     },
     "execution_count": 13,
     "metadata": {},
     "output_type": "execute_result"
    }
   ],
   "source": [
    "the_query = \"SELECT sales.Name\"\n",
    "the_query += \" FROM salesperson AS sales\"\n",
    "the_query += \" JOIN orders AS ord\"\n",
    "the_query += \" ON sales.salesID = ord.salesperson_id\"\n",
    "the_query += \" GROUP BY sales.Name\"\n",
    "the_query += \" HAVING COUNT(sales.Name) >= 2\"\n",
    "pandasql.sqldf(the_query, locals())"
   ]
  },
  {
   "cell_type": "markdown",
   "metadata": {},
   "source": [
    "Create a new table called highAchiever(Name, Age), where a salesperson must have a salary of 100,000 or greater to be included in the table"
   ]
  },
  {
   "cell_type": "code",
   "execution_count": 14,
   "metadata": {
    "collapsed": true
   },
   "outputs": [],
   "source": [
    "the_query = \"SELECT Name, Age\"\n",
    "the_query += \" FROM salesperson\"\n",
    "the_query += \" WHERE salary > 100000\"\n",
    "high_achiever = pandasql.sqldf(the_query, locals())"
   ]
  },
  {
   "cell_type": "code",
   "execution_count": 15,
   "metadata": {
    "collapsed": false,
    "scrolled": true
   },
   "outputs": [
    {
     "data": {
      "text/html": [
       "<div>\n",
       "<table border=\"1\" class=\"dataframe\">\n",
       "  <thead>\n",
       "    <tr style=\"text-align: right;\">\n",
       "      <th></th>\n",
       "      <th>Name</th>\n",
       "      <th>Age</th>\n",
       "    </tr>\n",
       "  </thead>\n",
       "  <tbody>\n",
       "    <tr>\n",
       "      <th>0</th>\n",
       "      <td>Abe</td>\n",
       "      <td>61</td>\n",
       "    </tr>\n",
       "    <tr>\n",
       "      <th>1</th>\n",
       "      <td>Ken</td>\n",
       "      <td>57</td>\n",
       "    </tr>\n",
       "  </tbody>\n",
       "</table>\n",
       "</div>"
      ],
      "text/plain": [
       "  Name  Age\n",
       "0  Abe   61\n",
       "1  Ken   57"
      ]
     },
     "execution_count": 15,
     "metadata": {},
     "output_type": "execute_result"
    }
   ],
   "source": [
    "high_achiever"
   ]
  },
  {
   "cell_type": "markdown",
   "metadata": {},
   "source": [
    "Retrieve the names of all salespeople that have more than 1 order from the tables"
   ]
  },
  {
   "cell_type": "code",
   "execution_count": 16,
   "metadata": {
    "collapsed": false
   },
   "outputs": [
    {
     "data": {
      "text/html": [
       "<div>\n",
       "<table border=\"1\" class=\"dataframe\">\n",
       "  <thead>\n",
       "    <tr style=\"text-align: right;\">\n",
       "      <th></th>\n",
       "      <th>Name</th>\n",
       "    </tr>\n",
       "  </thead>\n",
       "  <tbody>\n",
       "    <tr>\n",
       "      <th>0</th>\n",
       "      <td>Bob</td>\n",
       "    </tr>\n",
       "    <tr>\n",
       "      <th>1</th>\n",
       "      <td>Dan</td>\n",
       "    </tr>\n",
       "  </tbody>\n",
       "</table>\n",
       "</div>"
      ],
      "text/plain": [
       "  Name\n",
       "0  Bob\n",
       "1  Dan"
      ]
     },
     "execution_count": 16,
     "metadata": {},
     "output_type": "execute_result"
    }
   ],
   "source": [
    "the_query = \"SELECT s.Name\"\n",
    "the_query += \" FROM salesperson AS s\"\n",
    "the_query += \" JOIN orders AS o\"\n",
    "the_query += \" ON s.salesID = o.salesperson_id\"\n",
    "the_query += \" GROUP BY s.Name\"\n",
    "the_query += \" HAVING COUNT(o.salesperson_id) > 1\"\n",
    "pandasql.sqldf(the_query, locals())"
   ]
  },
  {
   "cell_type": "markdown",
   "metadata": {},
   "source": [
    "Find the largest order amount for each salesperson and the associated order number, along with the customer to whom that order belongs to."
   ]
  },
  {
   "cell_type": "code",
   "execution_count": 17,
   "metadata": {
    "collapsed": false
   },
   "outputs": [
    {
     "data": {
      "text/html": [
       "<div>\n",
       "<table border=\"1\" class=\"dataframe\">\n",
       "  <thead>\n",
       "    <tr style=\"text-align: right;\">\n",
       "      <th></th>\n",
       "      <th>Name</th>\n",
       "      <th>salesperson_id</th>\n",
       "      <th>OrderNum</th>\n",
       "      <th>Amount</th>\n",
       "    </tr>\n",
       "  </thead>\n",
       "  <tbody>\n",
       "    <tr>\n",
       "      <th>0</th>\n",
       "      <td>Abe</td>\n",
       "      <td>1</td>\n",
       "      <td>30</td>\n",
       "      <td>460</td>\n",
       "    </tr>\n",
       "    <tr>\n",
       "      <th>1</th>\n",
       "      <td>Bob</td>\n",
       "      <td>2</td>\n",
       "      <td>40</td>\n",
       "      <td>2400</td>\n",
       "    </tr>\n",
       "    <tr>\n",
       "      <th>2</th>\n",
       "      <td>Dan</td>\n",
       "      <td>7</td>\n",
       "      <td>60</td>\n",
       "      <td>720</td>\n",
       "    </tr>\n",
       "    <tr>\n",
       "      <th>3</th>\n",
       "      <td>Ken</td>\n",
       "      <td>8</td>\n",
       "      <td>20</td>\n",
       "      <td>1800</td>\n",
       "    </tr>\n",
       "  </tbody>\n",
       "</table>\n",
       "</div>"
      ],
      "text/plain": [
       "  Name  salesperson_id  OrderNum  Amount\n",
       "0  Abe               1        30     460\n",
       "1  Bob               2        40    2400\n",
       "2  Dan               7        60     720\n",
       "3  Ken               8        20    1800"
      ]
     },
     "execution_count": 17,
     "metadata": {},
     "output_type": "execute_result"
    }
   ],
   "source": [
    "the_query = \"SELECT s.Name, salesperson_id, Number as OrderNum, Amount\"\n",
    "the_query += \" FROM orders\"\n",
    "the_query += \" JOIN\"\n",
    "the_query += \" (SELECT salesperson_id, MAX(Amount) AS MaxOrder\"\n",
    "the_query += \" FROM orders\"\n",
    "the_query += \" GROUP BY salesperson_id) AS TopOrderAmountsPerSalesperson\"\n",
    "the_query += \" USING (salesperson_id)\"\n",
    "the_query += \" JOIN salesperson AS s ON s.salesID = orders.salesperson_id\"\n",
    "the_query += \" WHERE Amount = MaxOrder\"\n",
    "\n",
    "pandasql.sqldf(the_query, locals())"
   ]
  },
  {
   "cell_type": "markdown",
   "metadata": {},
   "source": [
    "Questions without data in DBs: Given 2 tables:\n",
    "\n",
    "**User**\n",
    "- user_id\n",
    "- name\n",
    "- phone_num\n",
    "\n",
    "**UserHistory**\n",
    "- user_id\n",
    "- date\n",
    "- action\n",
    "\n",
    "Every time a user logs in a new row is inserted into the UserHistory table with user_id, current date, and action.\n",
    "\n",
    "1. Write a SQL query that returns the name, phone number and most recent date for any user that has logged in over the last 30 days (you can tell a user has logged in if the action field in UserHistory is set to \"logged_on\").\n",
    "\n",
    "2. Write a SQL query to determine which user_ids in the User table are not contained in the UserHistory table (assume the UserHistory table has a subset of the user_ids in User table). Do not use the SQL MINUS statement.\n",
    "\n",
    "You should avoid using subqueries."
   ]
  },
  {
   "cell_type": "code",
   "execution_count": 18,
   "metadata": {
    "collapsed": false
   },
   "outputs": [
    {
     "name": "stdout",
     "output_type": "stream",
     "text": [
      "SELECT User.name, User.phone_num, max(UserHistory.date) FROM User JOIN UserHistory ON User.user_id = UserHistory.user_id WHERE UserHistory.date >= DATE_SUB(CURDATE(), INTERVAL 30 DAY) AND UserHistory.action = 'logged_on' GROUP BY (User.user_id)\n"
     ]
    }
   ],
   "source": [
    "#Solution 1\n",
    "the_query = \"SELECT User.name, User.phone_num, max(UserHistory.date)\"\n",
    "the_query += \" FROM User\"\n",
    "the_query += \" JOIN UserHistory\"\n",
    "the_query += \" ON User.user_id = UserHistory.user_id\"\n",
    "the_query += \" WHERE UserHistory.date >= DATE_SUB(CURDATE(), INTERVAL 30 DAY)\"\n",
    "the_query += \" AND UserHistory.action = 'logged_on'\"\n",
    "the_query += \" GROUP BY (User.user_id)\"\n",
    "\n",
    "print the_query"
   ]
  },
  {
   "cell_type": "code",
   "execution_count": 19,
   "metadata": {
    "collapsed": false
   },
   "outputs": [
    {
     "name": "stdout",
     "output_type": "stream",
     "text": [
      "SELECT DISTINCT u.user_id FROM User AS u LEFT JOIN UserHistory AS uh ON u.user_id = uh.user_id WHERE uh.user_id IS NULL\n"
     ]
    }
   ],
   "source": [
    "#Solution 2\n",
    "the_query = \"SELECT DISTINCT u.user_id\"\n",
    "the_query += \" FROM User AS u\"\n",
    "the_query += \" LEFT JOIN UserHistory AS uh\"\n",
    "the_query += \" ON u.user_id = uh.user_id\"\n",
    "the_query += \" WHERE uh.user_id IS NULL\"\n",
    "\n",
    "print the_query"
   ]
  },
  {
   "cell_type": "code",
   "execution_count": null,
   "metadata": {
    "collapsed": true
   },
   "outputs": [],
   "source": []
  }
 ],
 "metadata": {
  "kernelspec": {
   "display_name": "Python 2",
   "language": "python",
   "name": "python2"
  },
  "language_info": {
   "codemirror_mode": {
    "name": "ipython",
    "version": 2
   },
   "file_extension": ".py",
   "mimetype": "text/x-python",
   "name": "python",
   "nbconvert_exporter": "python",
   "pygments_lexer": "ipython2",
   "version": "2.7.11"
  }
 },
 "nbformat": 4,
 "nbformat_minor": 0
}
